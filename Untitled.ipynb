{
 "cells": [
  {
   "cell_type": "markdown",
   "metadata": {},
   "source": [
    "# Test Tetris functionality"
   ]
  },
  {
   "cell_type": "code",
   "execution_count": 1,
   "metadata": {},
   "outputs": [
    {
     "name": "stdout",
     "output_type": "stream",
     "text": [
      "Features are directed automatically to be BCTS features.\n"
     ]
    }
   ],
   "source": [
    "import tetris\n",
    "from agents.m_learning import MLearning\n",
    "from agents.random_agent import RandomAgent\n",
    "from agents.constant_agent import ConstantAgent\n",
    "from run.evaluate import evaluate\n",
    "import numpy as np\n",
    "env = tetris.Tetris(num_columns=10, num_rows=10, verbose=True)\n",
    "agent = RandomAgent()"
   ]
  },
  {
   "cell_type": "code",
   "execution_count": 2,
   "metadata": {},
   "outputs": [],
   "source": [
    "# evaluate(env, agent, visualize=True, clear_the_output=True, sleep=0.05)"
   ]
  },
  {
   "cell_type": "code",
   "execution_count": 4,
   "metadata": {},
   "outputs": [
    {
     "name": "stdout",
     "output_type": "stream",
     "text": [
      "\n",
      "|████████            |\n",
      "|██████████████████  |\n",
      "|██████  ██████████  |\n",
      "|██████████████  ████|\n",
      "|██████████████  ████|\n",
      "|████████  ██████████|\n",
      "|██████████████  ████|\n",
      "|██  ████████████████|\n",
      "|████████████████  ██|\n",
      "|████████  ██████████|\n",
      "\n"
     ]
    },
    {
     "data": {
      "text/plain": [
       "2747"
      ]
     },
     "execution_count": 4,
     "metadata": {},
     "output_type": "execute_result"
    }
   ],
   "source": [
    "agent = ConstantAgent(policy_weights=np.ones(8))\n",
    "evaluate(env, agent, visualize=True, clear_the_output=True, sleep=0.5)"
   ]
  }
 ],
 "metadata": {
  "kernelspec": {
   "display_name": "Python 3",
   "language": "python",
   "name": "python3"
  },
  "language_info": {
   "codemirror_mode": {
    "name": "ipython",
    "version": 3
   },
   "file_extension": ".py",
   "mimetype": "text/x-python",
   "name": "python",
   "nbconvert_exporter": "python",
   "pygments_lexer": "ipython3",
   "version": "3.6.3"
  }
 },
 "nbformat": 4,
 "nbformat_minor": 2
}
